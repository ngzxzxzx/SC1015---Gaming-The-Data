{
 "cells": [
  {
   "cell_type": "markdown",
   "id": "4415d15d",
   "metadata": {},
   "source": [
    "#  Classification Methods"
   ]
  },
  {
   "cell_type": "markdown",
   "id": "41b8e436",
   "metadata": {},
   "source": [
    "Main Methods Used: Decision Tree, Random Forest Classifier\n",
    "\n",
    "The random state has been set to 42 where applicable to maintain consistency."
   ]
  },
  {
   "cell_type": "code",
   "execution_count": 3,
   "id": "4a27d561",
   "metadata": {},
   "outputs": [],
   "source": [
    "import numpy as np\n",
    "import pandas as pd\n",
    "import seaborn as sb\n",
    "import matplotlib.pyplot as plt\n",
    "from sklearn.model_selection import train_test_split"
   ]
  },
  {
   "cell_type": "code",
   "execution_count": 4,
   "id": "687614d8",
   "metadata": {},
   "outputs": [],
   "source": [
    "vidgamesdf = pd.read_csv(\"vidgames_cleaned.csv\")"
   ]
  },
  {
   "cell_type": "code",
   "execution_count": 5,
   "id": "a4438f55",
   "metadata": {},
   "outputs": [
    {
     "data": {
      "text/html": [
       "<div>\n",
       "<style scoped>\n",
       "    .dataframe tbody tr th:only-of-type {\n",
       "        vertical-align: middle;\n",
       "    }\n",
       "\n",
       "    .dataframe tbody tr th {\n",
       "        vertical-align: top;\n",
       "    }\n",
       "\n",
       "    .dataframe thead th {\n",
       "        text-align: right;\n",
       "    }\n",
       "</style>\n",
       "<table border=\"1\" class=\"dataframe\">\n",
       "  <thead>\n",
       "    <tr style=\"text-align: right;\">\n",
       "      <th></th>\n",
       "      <th>Name</th>\n",
       "      <th>Year_of_Release</th>\n",
       "      <th>Genre</th>\n",
       "      <th>Publisher</th>\n",
       "      <th>Global_Sales</th>\n",
       "      <th>Critic_Score</th>\n",
       "      <th>Critic_Count</th>\n",
       "      <th>User_Score</th>\n",
       "      <th>User_Count</th>\n",
       "      <th>Developer</th>\n",
       "      <th>Rating</th>\n",
       "    </tr>\n",
       "  </thead>\n",
       "  <tbody>\n",
       "    <tr>\n",
       "      <th>0</th>\n",
       "      <td>007: Quantum of Solace</td>\n",
       "      <td>2008.0</td>\n",
       "      <td>Action</td>\n",
       "      <td>Activision</td>\n",
       "      <td>1.82</td>\n",
       "      <td>64.563380</td>\n",
       "      <td>71.0</td>\n",
       "      <td>6.653906</td>\n",
       "      <td>128.0</td>\n",
       "      <td>Treyarch</td>\n",
       "      <td>T</td>\n",
       "    </tr>\n",
       "    <tr>\n",
       "      <th>1</th>\n",
       "      <td>18 Wheeler: American Pro Trucker</td>\n",
       "      <td>2002.0</td>\n",
       "      <td>Racing</td>\n",
       "      <td>Acclaim Entertainment</td>\n",
       "      <td>0.11</td>\n",
       "      <td>52.000000</td>\n",
       "      <td>17.0</td>\n",
       "      <td>6.800000</td>\n",
       "      <td>8.0</td>\n",
       "      <td>Acclaim Studios Cheltenham</td>\n",
       "      <td>E</td>\n",
       "    </tr>\n",
       "    <tr>\n",
       "      <th>2</th>\n",
       "      <td>187: Ride or Die</td>\n",
       "      <td>2005.0</td>\n",
       "      <td>Racing</td>\n",
       "      <td>Ubisoft</td>\n",
       "      <td>0.06</td>\n",
       "      <td>51.000000</td>\n",
       "      <td>40.0</td>\n",
       "      <td>6.900000</td>\n",
       "      <td>8.0</td>\n",
       "      <td>Ubisoft Paris</td>\n",
       "      <td>M</td>\n",
       "    </tr>\n",
       "    <tr>\n",
       "      <th>3</th>\n",
       "      <td>2002 FIFA World Cup</td>\n",
       "      <td>2002.0</td>\n",
       "      <td>Sports</td>\n",
       "      <td>Electronic Arts</td>\n",
       "      <td>0.24</td>\n",
       "      <td>78.653846</td>\n",
       "      <td>26.0</td>\n",
       "      <td>8.220000</td>\n",
       "      <td>10.0</td>\n",
       "      <td>EA Sports</td>\n",
       "      <td>E</td>\n",
       "    </tr>\n",
       "    <tr>\n",
       "      <th>4</th>\n",
       "      <td>2010 FIFA World Cup South Africa</td>\n",
       "      <td>2010.0</td>\n",
       "      <td>Sports</td>\n",
       "      <td>Electronic Arts</td>\n",
       "      <td>1.73</td>\n",
       "      <td>78.593407</td>\n",
       "      <td>91.0</td>\n",
       "      <td>7.821795</td>\n",
       "      <td>78.0</td>\n",
       "      <td>Electronic Arts</td>\n",
       "      <td>E</td>\n",
       "    </tr>\n",
       "    <tr>\n",
       "      <th>...</th>\n",
       "      <td>...</td>\n",
       "      <td>...</td>\n",
       "      <td>...</td>\n",
       "      <td>...</td>\n",
       "      <td>...</td>\n",
       "      <td>...</td>\n",
       "      <td>...</td>\n",
       "      <td>...</td>\n",
       "      <td>...</td>\n",
       "      <td>...</td>\n",
       "      <td>...</td>\n",
       "    </tr>\n",
       "    <tr>\n",
       "      <th>4425</th>\n",
       "      <td>de Blob 2</td>\n",
       "      <td>2011.0</td>\n",
       "      <td>Platform</td>\n",
       "      <td>THQ</td>\n",
       "      <td>0.21</td>\n",
       "      <td>74.000000</td>\n",
       "      <td>50.0</td>\n",
       "      <td>7.100000</td>\n",
       "      <td>34.0</td>\n",
       "      <td>Blue Tongue Entertainment</td>\n",
       "      <td>E10+</td>\n",
       "    </tr>\n",
       "    <tr>\n",
       "      <th>4426</th>\n",
       "      <td>echochrome</td>\n",
       "      <td>2008.0</td>\n",
       "      <td>Puzzle</td>\n",
       "      <td>Sony Computer Entertainment</td>\n",
       "      <td>0.09</td>\n",
       "      <td>79.000000</td>\n",
       "      <td>28.0</td>\n",
       "      <td>7.700000</td>\n",
       "      <td>13.0</td>\n",
       "      <td>SCE/WWS, SCE Japan Studio</td>\n",
       "      <td>E</td>\n",
       "    </tr>\n",
       "    <tr>\n",
       "      <th>4427</th>\n",
       "      <td>htoL#NiQ: The Firefly Diary</td>\n",
       "      <td>2014.0</td>\n",
       "      <td>Platform</td>\n",
       "      <td>Nippon Ichi Software</td>\n",
       "      <td>0.01</td>\n",
       "      <td>58.000000</td>\n",
       "      <td>16.0</td>\n",
       "      <td>7.700000</td>\n",
       "      <td>23.0</td>\n",
       "      <td>Nippon Ichi Software</td>\n",
       "      <td>T</td>\n",
       "    </tr>\n",
       "    <tr>\n",
       "      <th>4428</th>\n",
       "      <td>nail'd</td>\n",
       "      <td>2010.0</td>\n",
       "      <td>Racing</td>\n",
       "      <td>Deep Silver</td>\n",
       "      <td>0.12</td>\n",
       "      <td>66.000000</td>\n",
       "      <td>36.0</td>\n",
       "      <td>6.200000</td>\n",
       "      <td>13.0</td>\n",
       "      <td>Techland</td>\n",
       "      <td>E10+</td>\n",
       "    </tr>\n",
       "    <tr>\n",
       "      <th>4429</th>\n",
       "      <td>uDraw Studio: Instant Artist</td>\n",
       "      <td>2011.0</td>\n",
       "      <td>Misc</td>\n",
       "      <td>THQ</td>\n",
       "      <td>0.02</td>\n",
       "      <td>54.000000</td>\n",
       "      <td>5.0</td>\n",
       "      <td>5.700000</td>\n",
       "      <td>6.0</td>\n",
       "      <td>THQ</td>\n",
       "      <td>E</td>\n",
       "    </tr>\n",
       "  </tbody>\n",
       "</table>\n",
       "<p>4430 rows × 11 columns</p>\n",
       "</div>"
      ],
      "text/plain": [
       "                                  Name  Year_of_Release     Genre  \\\n",
       "0               007: Quantum of Solace           2008.0    Action   \n",
       "1     18 Wheeler: American Pro Trucker           2002.0    Racing   \n",
       "2                     187: Ride or Die           2005.0    Racing   \n",
       "3                  2002 FIFA World Cup           2002.0    Sports   \n",
       "4     2010 FIFA World Cup South Africa           2010.0    Sports   \n",
       "...                                ...              ...       ...   \n",
       "4425                         de Blob 2           2011.0  Platform   \n",
       "4426                        echochrome           2008.0    Puzzle   \n",
       "4427       htoL#NiQ: The Firefly Diary           2014.0  Platform   \n",
       "4428                            nail'd           2010.0    Racing   \n",
       "4429      uDraw Studio: Instant Artist           2011.0      Misc   \n",
       "\n",
       "                        Publisher  Global_Sales  Critic_Score  Critic_Count  \\\n",
       "0                      Activision          1.82     64.563380          71.0   \n",
       "1           Acclaim Entertainment          0.11     52.000000          17.0   \n",
       "2                         Ubisoft          0.06     51.000000          40.0   \n",
       "3                 Electronic Arts          0.24     78.653846          26.0   \n",
       "4                 Electronic Arts          1.73     78.593407          91.0   \n",
       "...                           ...           ...           ...           ...   \n",
       "4425                          THQ          0.21     74.000000          50.0   \n",
       "4426  Sony Computer Entertainment          0.09     79.000000          28.0   \n",
       "4427         Nippon Ichi Software          0.01     58.000000          16.0   \n",
       "4428                  Deep Silver          0.12     66.000000          36.0   \n",
       "4429                          THQ          0.02     54.000000           5.0   \n",
       "\n",
       "      User_Score  User_Count                   Developer Rating  \n",
       "0       6.653906       128.0                    Treyarch      T  \n",
       "1       6.800000         8.0  Acclaim Studios Cheltenham      E  \n",
       "2       6.900000         8.0               Ubisoft Paris      M  \n",
       "3       8.220000        10.0                   EA Sports      E  \n",
       "4       7.821795        78.0             Electronic Arts      E  \n",
       "...          ...         ...                         ...    ...  \n",
       "4425    7.100000        34.0   Blue Tongue Entertainment   E10+  \n",
       "4426    7.700000        13.0   SCE/WWS, SCE Japan Studio      E  \n",
       "4427    7.700000        23.0        Nippon Ichi Software      T  \n",
       "4428    6.200000        13.0                    Techland   E10+  \n",
       "4429    5.700000         6.0                         THQ      E  \n",
       "\n",
       "[4430 rows x 11 columns]"
      ]
     },
     "execution_count": 5,
     "metadata": {},
     "output_type": "execute_result"
    }
   ],
   "source": [
    "vidgamesdf.drop(labels=\"Unnamed: 0\", axis=\"columns\", inplace=True)\n",
    "vidgamesdf"
   ]
  },
  {
   "cell_type": "markdown",
   "id": "e1d91344",
   "metadata": {},
   "source": [
    "We are trying to predict GlobalSales using Classification models. Through a classification model, we will be able to see which factors are the most important in making a video game with high sales, although we will not be able to give a exact number of projected sales."
   ]
  },
  {
   "cell_type": "code",
   "execution_count": 6,
   "id": "d2e9f0f8",
   "metadata": {},
   "outputs": [
    {
     "data": {
      "text/html": [
       "<div>\n",
       "<style scoped>\n",
       "    .dataframe tbody tr th:only-of-type {\n",
       "        vertical-align: middle;\n",
       "    }\n",
       "\n",
       "    .dataframe tbody tr th {\n",
       "        vertical-align: top;\n",
       "    }\n",
       "\n",
       "    .dataframe thead th {\n",
       "        text-align: right;\n",
       "    }\n",
       "</style>\n",
       "<table border=\"1\" class=\"dataframe\">\n",
       "  <thead>\n",
       "    <tr style=\"text-align: right;\">\n",
       "      <th></th>\n",
       "      <th>Year_of_Release</th>\n",
       "      <th>Global_Sales</th>\n",
       "      <th>Critic_Score</th>\n",
       "      <th>Critic_Count</th>\n",
       "      <th>User_Score</th>\n",
       "      <th>User_Count</th>\n",
       "    </tr>\n",
       "  </thead>\n",
       "  <tbody>\n",
       "    <tr>\n",
       "      <th>count</th>\n",
       "      <td>4430.000000</td>\n",
       "      <td>4430.000000</td>\n",
       "      <td>4430.000000</td>\n",
       "      <td>4430.000000</td>\n",
       "      <td>4430.000000</td>\n",
       "      <td>4430.000000</td>\n",
       "    </tr>\n",
       "    <tr>\n",
       "      <th>mean</th>\n",
       "      <td>2006.799549</td>\n",
       "      <td>0.430580</td>\n",
       "      <td>68.818975</td>\n",
       "      <td>28.117156</td>\n",
       "      <td>7.354293</td>\n",
       "      <td>39.668397</td>\n",
       "    </tr>\n",
       "    <tr>\n",
       "      <th>std</th>\n",
       "      <td>4.080750</td>\n",
       "      <td>0.452122</td>\n",
       "      <td>12.130409</td>\n",
       "      <td>17.072807</td>\n",
       "      <td>1.170144</td>\n",
       "      <td>44.805059</td>\n",
       "    </tr>\n",
       "    <tr>\n",
       "      <th>min</th>\n",
       "      <td>1985.000000</td>\n",
       "      <td>0.010000</td>\n",
       "      <td>35.000000</td>\n",
       "      <td>4.000000</td>\n",
       "      <td>3.900000</td>\n",
       "      <td>4.000000</td>\n",
       "    </tr>\n",
       "    <tr>\n",
       "      <th>25%</th>\n",
       "      <td>2004.000000</td>\n",
       "      <td>0.110000</td>\n",
       "      <td>61.000000</td>\n",
       "      <td>15.000000</td>\n",
       "      <td>6.600000</td>\n",
       "      <td>10.000000</td>\n",
       "    </tr>\n",
       "    <tr>\n",
       "      <th>50%</th>\n",
       "      <td>2006.000000</td>\n",
       "      <td>0.260000</td>\n",
       "      <td>70.000000</td>\n",
       "      <td>25.000000</td>\n",
       "      <td>7.600000</td>\n",
       "      <td>22.000000</td>\n",
       "    </tr>\n",
       "    <tr>\n",
       "      <th>75%</th>\n",
       "      <td>2009.000000</td>\n",
       "      <td>0.580000</td>\n",
       "      <td>78.000000</td>\n",
       "      <td>38.000000</td>\n",
       "      <td>8.221304</td>\n",
       "      <td>50.000000</td>\n",
       "    </tr>\n",
       "    <tr>\n",
       "      <th>max</th>\n",
       "      <td>2016.000000</td>\n",
       "      <td>2.120000</td>\n",
       "      <td>98.000000</td>\n",
       "      <td>91.000000</td>\n",
       "      <td>9.600000</td>\n",
       "      <td>229.000000</td>\n",
       "    </tr>\n",
       "  </tbody>\n",
       "</table>\n",
       "</div>"
      ],
      "text/plain": [
       "       Year_of_Release  Global_Sales  Critic_Score  Critic_Count   User_Score  \\\n",
       "count      4430.000000   4430.000000   4430.000000   4430.000000  4430.000000   \n",
       "mean       2006.799549      0.430580     68.818975     28.117156     7.354293   \n",
       "std           4.080750      0.452122     12.130409     17.072807     1.170144   \n",
       "min        1985.000000      0.010000     35.000000      4.000000     3.900000   \n",
       "25%        2004.000000      0.110000     61.000000     15.000000     6.600000   \n",
       "50%        2006.000000      0.260000     70.000000     25.000000     7.600000   \n",
       "75%        2009.000000      0.580000     78.000000     38.000000     8.221304   \n",
       "max        2016.000000      2.120000     98.000000     91.000000     9.600000   \n",
       "\n",
       "        User_Count  \n",
       "count  4430.000000  \n",
       "mean     39.668397  \n",
       "std      44.805059  \n",
       "min       4.000000  \n",
       "25%      10.000000  \n",
       "50%      22.000000  \n",
       "75%      50.000000  \n",
       "max     229.000000  "
      ]
     },
     "execution_count": 6,
     "metadata": {},
     "output_type": "execute_result"
    }
   ],
   "source": [
    "vidgamesdf.describe()"
   ]
  },
  {
   "cell_type": "markdown",
   "id": "f3b905bd",
   "metadata": {},
   "source": [
    "We are trying to see what makes a game sell well. For this reason, we will take the top 25% of games as a 'hit' and encoded as '1', and the rest will be 'misses', encoded as '0'."
   ]
  },
  {
   "cell_type": "code",
   "execution_count": 7,
   "id": "2470d325",
   "metadata": {},
   "outputs": [
    {
     "name": "stderr",
     "output_type": "stream",
     "text": [
      "C:\\Users\\Gan\\AppData\\Local\\Temp\\ipykernel_13392\\1565426666.py:9: SettingWithCopyWarning: \n",
      "A value is trying to be set on a copy of a slice from a DataFrame\n",
      "\n",
      "See the caveats in the documentation: https://pandas.pydata.org/pandas-docs/stable/user_guide/indexing.html#returning-a-view-versus-a-copy\n",
      "  vidgamesdf['Hit'][i] = 1\n",
      "C:\\Users\\Gan\\AppData\\Local\\Temp\\ipykernel_13392\\1565426666.py:11: SettingWithCopyWarning: \n",
      "A value is trying to be set on a copy of a slice from a DataFrame\n",
      "\n",
      "See the caveats in the documentation: https://pandas.pydata.org/pandas-docs/stable/user_guide/indexing.html#returning-a-view-versus-a-copy\n",
      "  vidgamesdf['Hit'][i] = 0\n"
     ]
    }
   ],
   "source": [
    "# create a 'hit' game column\n",
    "vidgamesdf['Hit'] = np.nan\n",
    "\n",
    "# 0.58 is the 75% percentile of GlobalSales\n",
    "for i in range(len(vidgamesdf)):\n",
    "    hit = (vidgamesdf['Global_Sales'][i] >= 0.58)\n",
    "    \n",
    "    if hit:\n",
    "        vidgamesdf['Hit'][i] = 1\n",
    "    else:\n",
    "        vidgamesdf['Hit'][i] = 0"
   ]
  },
  {
   "cell_type": "code",
   "execution_count": 8,
   "id": "bba1e877",
   "metadata": {},
   "outputs": [
    {
     "data": {
      "text/html": [
       "<div>\n",
       "<style scoped>\n",
       "    .dataframe tbody tr th:only-of-type {\n",
       "        vertical-align: middle;\n",
       "    }\n",
       "\n",
       "    .dataframe tbody tr th {\n",
       "        vertical-align: top;\n",
       "    }\n",
       "\n",
       "    .dataframe thead th {\n",
       "        text-align: right;\n",
       "    }\n",
       "</style>\n",
       "<table border=\"1\" class=\"dataframe\">\n",
       "  <thead>\n",
       "    <tr style=\"text-align: right;\">\n",
       "      <th></th>\n",
       "      <th>Year_of_Release</th>\n",
       "      <th>Global_Sales</th>\n",
       "      <th>Critic_Score</th>\n",
       "      <th>Critic_Count</th>\n",
       "      <th>User_Score</th>\n",
       "      <th>User_Count</th>\n",
       "      <th>Hit</th>\n",
       "    </tr>\n",
       "  </thead>\n",
       "  <tbody>\n",
       "    <tr>\n",
       "      <th>count</th>\n",
       "      <td>4430.000000</td>\n",
       "      <td>4430.000000</td>\n",
       "      <td>4430.000000</td>\n",
       "      <td>4430.000000</td>\n",
       "      <td>4430.000000</td>\n",
       "      <td>4430.000000</td>\n",
       "      <td>4430.000000</td>\n",
       "    </tr>\n",
       "    <tr>\n",
       "      <th>mean</th>\n",
       "      <td>2006.799549</td>\n",
       "      <td>0.430580</td>\n",
       "      <td>68.818975</td>\n",
       "      <td>28.117156</td>\n",
       "      <td>7.354293</td>\n",
       "      <td>39.668397</td>\n",
       "      <td>0.253499</td>\n",
       "    </tr>\n",
       "    <tr>\n",
       "      <th>std</th>\n",
       "      <td>4.080750</td>\n",
       "      <td>0.452122</td>\n",
       "      <td>12.130409</td>\n",
       "      <td>17.072807</td>\n",
       "      <td>1.170144</td>\n",
       "      <td>44.805059</td>\n",
       "      <td>0.435063</td>\n",
       "    </tr>\n",
       "    <tr>\n",
       "      <th>min</th>\n",
       "      <td>1985.000000</td>\n",
       "      <td>0.010000</td>\n",
       "      <td>35.000000</td>\n",
       "      <td>4.000000</td>\n",
       "      <td>3.900000</td>\n",
       "      <td>4.000000</td>\n",
       "      <td>0.000000</td>\n",
       "    </tr>\n",
       "    <tr>\n",
       "      <th>25%</th>\n",
       "      <td>2004.000000</td>\n",
       "      <td>0.110000</td>\n",
       "      <td>61.000000</td>\n",
       "      <td>15.000000</td>\n",
       "      <td>6.600000</td>\n",
       "      <td>10.000000</td>\n",
       "      <td>0.000000</td>\n",
       "    </tr>\n",
       "    <tr>\n",
       "      <th>50%</th>\n",
       "      <td>2006.000000</td>\n",
       "      <td>0.260000</td>\n",
       "      <td>70.000000</td>\n",
       "      <td>25.000000</td>\n",
       "      <td>7.600000</td>\n",
       "      <td>22.000000</td>\n",
       "      <td>0.000000</td>\n",
       "    </tr>\n",
       "    <tr>\n",
       "      <th>75%</th>\n",
       "      <td>2009.000000</td>\n",
       "      <td>0.580000</td>\n",
       "      <td>78.000000</td>\n",
       "      <td>38.000000</td>\n",
       "      <td>8.221304</td>\n",
       "      <td>50.000000</td>\n",
       "      <td>1.000000</td>\n",
       "    </tr>\n",
       "    <tr>\n",
       "      <th>max</th>\n",
       "      <td>2016.000000</td>\n",
       "      <td>2.120000</td>\n",
       "      <td>98.000000</td>\n",
       "      <td>91.000000</td>\n",
       "      <td>9.600000</td>\n",
       "      <td>229.000000</td>\n",
       "      <td>1.000000</td>\n",
       "    </tr>\n",
       "  </tbody>\n",
       "</table>\n",
       "</div>"
      ],
      "text/plain": [
       "       Year_of_Release  Global_Sales  Critic_Score  Critic_Count   User_Score  \\\n",
       "count      4430.000000   4430.000000   4430.000000   4430.000000  4430.000000   \n",
       "mean       2006.799549      0.430580     68.818975     28.117156     7.354293   \n",
       "std           4.080750      0.452122     12.130409     17.072807     1.170144   \n",
       "min        1985.000000      0.010000     35.000000      4.000000     3.900000   \n",
       "25%        2004.000000      0.110000     61.000000     15.000000     6.600000   \n",
       "50%        2006.000000      0.260000     70.000000     25.000000     7.600000   \n",
       "75%        2009.000000      0.580000     78.000000     38.000000     8.221304   \n",
       "max        2016.000000      2.120000     98.000000     91.000000     9.600000   \n",
       "\n",
       "        User_Count          Hit  \n",
       "count  4430.000000  4430.000000  \n",
       "mean     39.668397     0.253499  \n",
       "std      44.805059     0.435063  \n",
       "min       4.000000     0.000000  \n",
       "25%      10.000000     0.000000  \n",
       "50%      22.000000     0.000000  \n",
       "75%      50.000000     1.000000  \n",
       "max     229.000000     1.000000  "
      ]
     },
     "execution_count": 8,
     "metadata": {},
     "output_type": "execute_result"
    }
   ],
   "source": [
    "vidgamesdf.describe()"
   ]
  },
  {
   "cell_type": "code",
   "execution_count": 9,
   "id": "48d0b64c",
   "metadata": {},
   "outputs": [],
   "source": [
    "#Convert categorical variables to int using one hot encoding, as used in regression\n",
    "genre_int = pd.get_dummies(vidgamesdf[\"Genre\"], drop_first=True)\n",
    "rating_int = pd.get_dummies(vidgamesdf[\"Rating\"], drop_first=True)\n",
    "publisher_int = pd.get_dummies(vidgamesdf[\"Publisher\"], drop_first=True)\n",
    "dev_int=pd.get_dummies(vidgamesdf[\"Developer\"], drop_first=True)"
   ]
  },
  {
   "cell_type": "markdown",
   "id": "0f4a2a66",
   "metadata": {},
   "source": [
    "We will use the same One Hot Encoding as used in Regression models to convert the categorical variables"
   ]
  },
  {
   "cell_type": "code",
   "execution_count": 10,
   "id": "7182ed88",
   "metadata": {},
   "outputs": [],
   "source": [
    "#Set the response and predictor variables \n",
    "predictor = vidgamesdf[[\"Critic_Score\", \"Year_of_Release\", \"User_Score\", \"Critic_Count\", \"User_Count\"]].copy()\n",
    "predictor = pd.concat([predictor, genre_int, rating_int, publisher_int, dev_int], axis=1)\n",
    "response = vidgamesdf['Hit']"
   ]
  },
  {
   "cell_type": "code",
   "execution_count": 11,
   "id": "5eb92a8e",
   "metadata": {},
   "outputs": [],
   "source": [
    "#Create the train test split for all the models\n",
    "X_train, X_test, y_train, y_test = train_test_split(predictor, response, test_size = 0.2, random_state = 42)"
   ]
  },
  {
   "cell_type": "markdown",
   "id": "3a02616a",
   "metadata": {},
   "source": [
    "This train test split will be used for all the following classification models"
   ]
  },
  {
   "cell_type": "markdown",
   "id": "be64c816",
   "metadata": {},
   "source": [
    "# Method 1: K Nearest Neighbours"
   ]
  },
  {
   "cell_type": "markdown",
   "id": "195908af",
   "metadata": {},
   "source": [
    "From the scatterplot in our EDA, we realised that the data does not necessarily follow a linear trend, but that it is scattered around. Hence, it may be useful to use a clustering based classifier model to predict whether a game is a \"hit\".\n",
    "\n",
    "Hence, we will be using K Nearest Neighbours."
   ]
  },
  {
   "cell_type": "code",
   "execution_count": 78,
   "id": "062bb25f",
   "metadata": {},
   "outputs": [],
   "source": [
    "from sklearn.neighbors import KNeighborsClassifier"
   ]
  },
  {
   "cell_type": "code",
   "execution_count": 107,
   "id": "e2e60fbb",
   "metadata": {},
   "outputs": [
    {
     "data": {
      "text/plain": [
       "[<matplotlib.lines.Line2D at 0x1f002effee0>]"
      ]
     },
     "execution_count": 107,
     "metadata": {},
     "output_type": "execute_result"
    },
    {
     "data": {
      "image/png": "[encoded data removed]",
      "text/plain": [
       "<Figure size 1500x1000 with 1 Axes>"
      ]
     },
     "metadata": {},
     "output_type": "display_data"
    }
   ],
   "source": [
    "# import warnings filter\n",
    "from warnings import simplefilter\n",
    "# stop warning spam\n",
    "simplefilter(action='ignore', category=FutureWarning)\n",
    "\n",
    "error_rate = []\n",
    "\n",
    "for i in range(1,50):\n",
    "    knn = KNeighborsClassifier(n_neighbors=i)\n",
    "    knn.fit(X_train, y_train)\n",
    "    pred = knn.predict(X_test)\n",
    "    error_rate.append(np.mean(pred != y_test))\n",
    "\n",
    "plt.figure(figsize=(15,10))\n",
    "plt.plot(range(1,50),error_rate, marker='o', markersize=9)\n"
   ]
  },
  {
   "cell_type": "markdown",
   "id": "f711bc82",
   "metadata": {},
   "source": [
    "K Nearest Neighbours check a point against its neighbours, before collecting a vote on whether it is a 'hit' or not in our case. Hence to find the optimal value of k or number of neighbours to check, we try k values 1 to 50. Since the graph fluctuates, we will pick a low k value of 12, right before the graph starts fluctuating. "
   ]
  },
  {
   "cell_type": "code",
   "execution_count": 109,
   "id": "91942f2e",
   "metadata": {},
   "outputs": [
    {
     "name": "stdout",
     "output_type": "stream",
     "text": [
      "Test Data Classification Accuracy: \t 0.784706546275395\n",
      "\n",
      "Test Data Classification Accuracy: \t 0.7595936794582393\n"
     ]
    }
   ],
   "source": [
    "knn = KNeighborsClassifier(n_neighbors = 12)\n",
    "knn.fit(X_train, y_train)\n",
    "\n",
    "y_train_pred = knn.predict(X_train)\n",
    "y_test_pred = knn.predict(X_test)\n",
    "\n",
    "print(\"Test Data Classification Accuracy: \\t\", knn.score(X_train, y_train))\n",
    "print()\n",
    "print(\"Test Data Classification Accuracy: \\t\", knn.score(X_test, y_test))"
   ]
  },
  {
   "cell_type": "code",
   "execution_count": 110,
   "id": "83e52027",
   "metadata": {},
   "outputs": [
    {
     "data": {
      "text/plain": [
       "<AxesSubplot:>"
      ]
     },
     "execution_count": 110,
     "metadata": {},
     "output_type": "execute_result"
    },
    {
     "data": {
      "image/png": "[encoded data removed]",
      "text/plain": [
       "<Figure size 1200x400 with 4 Axes>"
      ]
     },
     "metadata": {},
     "output_type": "display_data"
    }
   ],
   "source": [
    "# Plot the Confusion Matrix for Train and Test\n",
    "f, axes = plt.subplots(1, 2, figsize=(12, 4))\n",
    "sb.heatmap(confusion_matrix(y_train, y_train_pred),\n",
    "           annot = True, fmt=\".0f\", annot_kws={\"size\": 18}, ax = axes[0])\n",
    "sb.heatmap(confusion_matrix(y_test, y_test_pred), \n",
    "           annot = True, fmt=\".0f\", annot_kws={\"size\": 18}, ax = axes[1])"
   ]
  },
  {
   "cell_type": "markdown",
   "id": "fc428572",
   "metadata": {},
   "source": [
    "We see that while the classification accuracy is high at 0.76, and that there are significantly more false negatives than false positives. However, the low train accuracy and high false negatives shows that it may not be the best model. We will attempt to improve on this classifcation accuracy."
   ]
  },
  {
   "cell_type": "code",
   "execution_count": null,
   "id": "e9a608dd",
   "metadata": {},
   "outputs": [],
   "source": []
  },
  {
   "cell_type": "markdown",
   "id": "61f15268",
   "metadata": {},
   "source": [
    "# Model 2: Decision Tree"
   ]
  },
  {
   "cell_type": "code",
   "execution_count": 12,
   "id": "480ce2c9",
   "metadata": {},
   "outputs": [],
   "source": [
    "from sklearn.tree import DecisionTreeClassifier\n",
    "from sklearn.metrics import confusion_matrix\n",
    "from sklearn.tree import plot_tree"
   ]
  },
  {
   "cell_type": "code",
   "execution_count": 13,
   "id": "6c344214",
   "metadata": {},
   "outputs": [
    {
     "name": "stdout",
     "output_type": "stream",
     "text": [
      "Train Data Classification Accuracy \t: 1.0\n",
      "\n",
      "Test Data Classification Accuracy \t: 0.7573363431151241\n",
      "\n"
     ]
    }
   ],
   "source": [
    "# Create a Decision Tree Classifier object\n",
    "dectree = DecisionTreeClassifier(random_state = 42)\n",
    "# Train the Decision Tree Classifier model\n",
    "dectree.fit(X_train, y_train)\n",
    "\n",
    "y_train_pred = dectree.predict(X_train)\n",
    "y_test_pred = dectree.predict(X_test)\n",
    "\n",
    "# Classification accuracy on train\n",
    "print(\"Train Data Classification Accuracy \\t:\", dectree.score(X_train, y_train))\n",
    "print()\n",
    "\n",
    "# Classification accuracy on test\n",
    "print(\"Test Data Classification Accuracy \\t:\", dectree.score(X_test, y_test))\n",
    "print()\n"
   ]
  },
  {
   "cell_type": "code",
   "execution_count": 14,
   "id": "6601cd0a",
   "metadata": {
    "scrolled": false
   },
   "outputs": [
    {
     "data": {
      "text/plain": [
       "<AxesSubplot:>"
      ]
     },
     "execution_count": 14,
     "metadata": {},
     "output_type": "execute_result"
    },
    {
     "data": {
      "image/png": "[encoded data removed]",
      "text/plain": [
       "<Figure size 1200x400 with 4 Axes>"
      ]
     },
     "metadata": {},
     "output_type": "display_data"
    }
   ],
   "source": [
    "# Plot the Confusion Matrix for Train and Test\n",
    "f, axes = plt.subplots(1, 2, figsize=(12, 4))\n",
    "sb.heatmap(confusion_matrix(y_train, y_train_pred),\n",
    "           annot = True, fmt=\".0f\", annot_kws={\"size\": 18}, ax = axes[0])\n",
    "sb.heatmap(confusion_matrix(y_test, y_test_pred), \n",
    "           annot = True, fmt=\".0f\", annot_kws={\"size\": 18}, ax = axes[1])"
   ]
  },
  {
   "cell_type": "markdown",
   "id": "f404a210",
   "metadata": {},
   "source": [
    "The classification accuracy is quite high, with a similar number of false positives and negatives."
   ]
  },
  {
   "cell_type": "raw",
   "id": "4610421f",
   "metadata": {},
   "source": [
    "#the code for the tree is commented out due to a very long load time, change the block to code to generate the tree. \n",
    "\n",
    "f = plt.figure(figsize=(30,12))\n",
    "plot_tree(dectree, filled=True, rounded=True, \n",
    "          feature_names=X_train.columns, \n",
    "          class_names=[\"Miss\",\"Hit\"])\n",
    "plt.show()"
   ]
  },
  {
   "cell_type": "code",
   "execution_count": 15,
   "id": "7319b7ac",
   "metadata": {},
   "outputs": [
    {
     "name": "stdout",
     "output_type": "stream",
     "text": [
      "Depth of Decision Tree: 96\n"
     ]
    }
   ],
   "source": [
    "print(\"Depth of Decision Tree:\", dectree.get_depth())"
   ]
  },
  {
   "cell_type": "markdown",
   "id": "6721142e",
   "metadata": {},
   "source": [
    "However, the tree is very large at depth 96 due to the amount of categorical variables converted via One Hot Encoding, so we will analyse the most important features instead."
   ]
  },
  {
   "cell_type": "code",
   "execution_count": 16,
   "id": "9a79e197",
   "metadata": {},
   "outputs": [],
   "source": [
    "importances = pd.DataFrame({'feature':X_train.columns,'importance':np.round(dectree.feature_importances_, 3)})\n",
    "importances = importances.sort_values('importance',ascending=False).reset_index(drop=True)"
   ]
  },
  {
   "cell_type": "code",
   "execution_count": 17,
   "id": "cb4cd42a",
   "metadata": {
    "scrolled": false
   },
   "outputs": [
    {
     "data": {
      "text/html": [
       "<div>\n",
       "<style scoped>\n",
       "    .dataframe tbody tr th:only-of-type {\n",
       "        vertical-align: middle;\n",
       "    }\n",
       "\n",
       "    .dataframe tbody tr th {\n",
       "        vertical-align: top;\n",
       "    }\n",
       "\n",
       "    .dataframe thead th {\n",
       "        text-align: right;\n",
       "    }\n",
       "</style>\n",
       "<table border=\"1\" class=\"dataframe\">\n",
       "  <thead>\n",
       "    <tr style=\"text-align: right;\">\n",
       "      <th></th>\n",
       "      <th>feature</th>\n",
       "      <th>importance</th>\n",
       "    </tr>\n",
       "  </thead>\n",
       "  <tbody>\n",
       "    <tr>\n",
       "      <th>0</th>\n",
       "      <td>User_Count</td>\n",
       "      <td>0.190</td>\n",
       "    </tr>\n",
       "    <tr>\n",
       "      <th>1</th>\n",
       "      <td>Critic_Score</td>\n",
       "      <td>0.105</td>\n",
       "    </tr>\n",
       "    <tr>\n",
       "      <th>2</th>\n",
       "      <td>Critic_Count</td>\n",
       "      <td>0.102</td>\n",
       "    </tr>\n",
       "    <tr>\n",
       "      <th>3</th>\n",
       "      <td>Year_of_Release</td>\n",
       "      <td>0.093</td>\n",
       "    </tr>\n",
       "    <tr>\n",
       "      <th>4</th>\n",
       "      <td>User_Score</td>\n",
       "      <td>0.083</td>\n",
       "    </tr>\n",
       "    <tr>\n",
       "      <th>...</th>\n",
       "      <td>...</td>\n",
       "      <td>...</td>\n",
       "    </tr>\n",
       "    <tr>\n",
       "      <th>1324</th>\n",
       "      <td>Evolution Studios</td>\n",
       "      <td>0.000</td>\n",
       "    </tr>\n",
       "    <tr>\n",
       "      <th>1325</th>\n",
       "      <td>Human Entertainment</td>\n",
       "      <td>0.000</td>\n",
       "    </tr>\n",
       "    <tr>\n",
       "      <th>1326</th>\n",
       "      <td>Examu</td>\n",
       "      <td>0.000</td>\n",
       "    </tr>\n",
       "    <tr>\n",
       "      <th>1327</th>\n",
       "      <td>Examu, Marvelous Inc.</td>\n",
       "      <td>0.000</td>\n",
       "    </tr>\n",
       "    <tr>\n",
       "      <th>1328</th>\n",
       "      <td>zSlide</td>\n",
       "      <td>0.000</td>\n",
       "    </tr>\n",
       "  </tbody>\n",
       "</table>\n",
       "<p>1329 rows × 2 columns</p>\n",
       "</div>"
      ],
      "text/plain": [
       "                    feature  importance\n",
       "0                User_Count       0.190\n",
       "1              Critic_Score       0.105\n",
       "2              Critic_Count       0.102\n",
       "3           Year_of_Release       0.093\n",
       "4                User_Score       0.083\n",
       "...                     ...         ...\n",
       "1324      Evolution Studios       0.000\n",
       "1325    Human Entertainment       0.000\n",
       "1326                  Examu       0.000\n",
       "1327  Examu, Marvelous Inc.       0.000\n",
       "1328                 zSlide       0.000\n",
       "\n",
       "[1329 rows x 2 columns]"
      ]
     },
     "execution_count": 17,
     "metadata": {},
     "output_type": "execute_result"
    }
   ],
   "source": [
    "importances"
   ]
  },
  {
   "cell_type": "markdown",
   "id": "93e8ac35",
   "metadata": {},
   "source": [
    "As seen above, out of 1329 features, UserCount has the highest importance, followed by critic count. This is similar to the importances in the Linear Regression models. However, the classification method has allowed for more variables to be of higher importance, allowing for the prediction accuracy to be higher. How can we further refine and improve our accuracy?"
   ]
  },
  {
   "cell_type": "markdown",
   "id": "d3b58f24",
   "metadata": {},
   "source": [
    "# Method 3: Random Forest Classification"
   ]
  },
  {
   "cell_type": "markdown",
   "id": "90abb4ba",
   "metadata": {},
   "source": [
    "While the classification accuracy of the decision tree was high, when the tree was allowed to grow to its maximum depth, it reached a depth of 96. Such a deep tree with so many leaves is prone to overfitting, and it indicates that many features are important in classification of a \"hit\" (top 25%) game. \n",
    "\n",
    "While we could have solved this by limiting the max depth of the decision tree, the large amount of features at 1329 might not be accurately represented.\n",
    "\n",
    "A way to solve both problems would be to use Random Forest Classification.\n",
    "\n",
    "The random forest creates many decision trees, resulting in a \"forest\". It then averages the predictions of each component tree to make a prediction. It naturally follows the decision tree, and is likely to improve classification accuracy when the tree is deep."
   ]
  },
  {
   "cell_type": "code",
   "execution_count": 18,
   "id": "ce73a78b",
   "metadata": {},
   "outputs": [],
   "source": [
    "from sklearn.ensemble import RandomForestClassifier"
   ]
  },
  {
   "cell_type": "code",
   "execution_count": 70,
   "id": "fd963ae0",
   "metadata": {},
   "outputs": [
    {
     "name": "stdout",
     "output_type": "stream",
     "text": [
      "Test Data Classification Accuracy: \t 1.0\n",
      "\n",
      "Test Data Classification Accuracy: \t 0.8081264108352144\n"
     ]
    }
   ],
   "source": [
    "randomforest = RandomForestClassifier(random_state = 42)\n",
    "randomforest.fit(X_train, y_train)\n",
    "\n",
    "y_train_pred = randomforest.predict(X_train)\n",
    "y_test_pred = randomforest.predict(X_test)\n",
    "\n",
    "print(\"Test Data Classification Accuracy: \\t\", randomforest.score(X_train, y_train))\n",
    "print()\n",
    "print(\"Test Data Classification Accuracy: \\t\", randomforest.score(X_test, y_test))"
   ]
  },
  {
   "cell_type": "code",
   "execution_count": 71,
   "id": "ba297fd2",
   "metadata": {},
   "outputs": [
    {
     "data": {
      "text/plain": [
       "<AxesSubplot:>"
      ]
     },
     "execution_count": 71,
     "metadata": {},
     "output_type": "execute_result"
    },
    {
     "data": {
      "image/png": "[encoded data removed]",
      "text/plain": [
       "<Figure size 1200x400 with 4 Axes>"
      ]
     },
     "metadata": {},
     "output_type": "display_data"
    }
   ],
   "source": [
    "# Plot the Confusion Matrix for Train and Test\n",
    "f, axes = plt.subplots(1, 2, figsize=(12, 4))\n",
    "sb.heatmap(confusion_matrix(y_train, y_train_pred),\n",
    "           annot = True, fmt=\".0f\", annot_kws={\"size\": 18}, ax = axes[0])\n",
    "sb.heatmap(confusion_matrix(y_test, y_test_pred), \n",
    "           annot = True, fmt=\".0f\", annot_kws={\"size\": 18}, ax = axes[1])"
   ]
  },
  {
   "cell_type": "markdown",
   "id": "b816742e",
   "metadata": {},
   "source": [
    "Random Forest has significantly improved prediction accuracy by around 0.06. Notably, while the overall accuracy is higher,  false positives have decreased significantly, and false negatives have increased slightly. It has decreased the false negatives from K nearest neighbours, and has improved on the decision tree. Hence, the random forest classifier is the best model for our dataset."
   ]
  },
  {
   "cell_type": "code",
   "execution_count": null,
   "id": "8090bf68",
   "metadata": {},
   "outputs": [],
   "source": []
  }
 ],
 "metadata": {
  "kernelspec": {
   "display_name": "Python 3 (ipykernel)",
   "language": "python",
   "name": "python3"
  },
  "language_info": {
   "codemirror_mode": {
    "name": "ipython",
    "version": 3
   },
   "file_extension": ".py",
   "mimetype": "text/x-python",
   "name": "python",
   "nbconvert_exporter": "python",
   "pygments_lexer": "ipython3",
   "version": "3.9.13"
  }
 },
 "nbformat": 4,
 "nbformat_minor": 5
}
