{
 "cells": [
  {
   "cell_type": "markdown",
   "id": "ca3598bd",
   "metadata": {},
   "source": [
    "PART (A) ALGO IMPLEMENTATION\n"
   ]
  },
  {
   "cell_type": "code",
   "execution_count": 25,
   "id": "62c73705",
   "metadata": {
    "scrolled": true
   },
   "outputs": [],
   "source": [
    "def merge(left, right, keyComparisons):\n",
    "    result = []\n",
    "    leftptr, rightptr= 0, 0\n",
    "\n",
    "    #compare left and right, and if left is lower or equal, add to result and increment pointer. Same for right\n",
    "    while len(left) > leftptr and len(right) > rightptr:\n",
    "        keyComparisons += 1\n",
    "        if left[leftptr] <= right[rightptr]:\n",
    "            result.append(left[leftptr])\n",
    "            leftptr += 1\n",
    "        else:\n",
    "            result.append(right[rightptr])\n",
    "            rightptr += 1\n",
    "\n",
    "    #either left or right is now 'empty', flush all numbers into result\n",
    "    while(leftptr < len(left)):\n",
    "        result.append(left[leftptr])\n",
    "        leftptr += 1\n",
    "\n",
    "    while(rightptr < len(right)):\n",
    "        result.append(right[rightptr])\n",
    "        rightptr += 1\n",
    "\n",
    "    return result, keyComparisons\n",
    "\n",
    "\n",
    "def mergeSort(arr, keyComparisons):\n",
    "    if len(arr) == 1:\n",
    "        return arr, keyComparisons\n",
    "    left,leftkc = mergeSort(arr[:len(arr) // 2], 0)\n",
    "    right,rightkc = mergeSort(arr[len(arr) // 2:], 0)\n",
    "    result, kc = merge(left, right, keyComparisons)\n",
    "    keyComparisons = keyComparisons + kc + leftkc + rightkc\n",
    "    return result, keyComparisons\n",
    "\n",
    "\n",
    "def insertionSort(arr):\n",
    "    keycompare = 0\n",
    "    n = len(arr)\n",
    "    for i in range(n-1):\n",
    "        j=i\n",
    "        while j>=0:\n",
    "            keycompare+=1;\n",
    "            if(arr[j]>arr[j+1]):\n",
    "                temp = arr[j]\n",
    "                arr[j] = arr[j+1]\n",
    "                arr[j+1]= temp\n",
    "            else:\n",
    "                break\n",
    "            j-=1\n",
    "    return keycompare\n",
    "                \n",
    "def mergeSortH(arr,keyComparisons, s):\n",
    "    if len(arr) <= s:\n",
    "        kc=insertionSort(arr)\n",
    "        keyComparisons+=kc\n",
    "        return arr, keyComparisons\n",
    "    \n",
    "    left,leftkc = mergeSortH(arr[:len(arr) // 2], 0, s)\n",
    "    right,rightkc = mergeSortH(arr[len(arr) // 2:], 0, s)\n",
    "    result, kc = merge(left, right, keyComparisons)\n",
    "    keyComparisons = keyComparisons + kc + leftkc + rightkc\n",
    "    return result, keyComparisons\n"
   ]
  },
  {
   "cell_type": "markdown",
   "id": "1cabec2c",
   "metadata": {},
   "source": [
    "ci)\n"
   ]
  },
  {
   "cell_type": "markdown",
   "id": "91fd12ad",
   "metadata": {},
   "source": [
    "With the value of S fixed, plot the number of key comparisons over\n",
    "different sizes of the input list n. Compare your empirical results with\n",
    "your theoretical analysis of the time complexity."
   ]
  },
  {
   "cell_type": "code",
   "execution_count": 26,
   "id": "d07ba665",
   "metadata": {},
   "outputs": [],
   "source": [
    "#import the csv generated from Data Gathering (smaller the index, the smaller the n)\n",
    "import csv\n",
    "#arr to store all the samples\n",
    "allSamplesOG = []\n",
    "#arr to store length of each sample, x axis\n",
    "arrN =[]\n",
    "\n",
    "with open('sample2.csv', 'r') as csvfile:\n",
    "    csv_reader = csv.reader(csvfile)\n",
    "    for csv_row in csv_reader:\n",
    "        inner_array = [int(item) for item in csv_row if item]\n",
    "        arrN.append(len(inner_array))\n",
    "        allSamplesOG.append(inner_array)"
   ]
  },
  {
   "cell_type": "code",
   "execution_count": 27,
   "id": "091d4dcd",
   "metadata": {},
   "outputs": [],
   "source": [
    "#s is the threshold\n",
    "s = 8\n",
    "\n",
    "#array to store results of ci, y axis\n",
    "empiricalData1 = []\n",
    "allSamples = allSamplesOG.copy()\n",
    "\n",
    "for sample in allSamples:\n",
    "    result, keyComparisons = mergeSortH(sample,0,s)\n",
    "    empiricalData1.append(keyComparisons)"
   ]
  },
  {
   "cell_type": "markdown",
   "id": "a3c182ba",
   "metadata": {},
   "source": [
    "Max keyComparisons in MergeSort with n=k<sup>2</sup>, for k an integer\n",
    "\n",
    "There are log<sub>2</sub>n +1 levels and hence log<sub>2</sub>n level of comparisons\n",
    "\n",
    "The max number of keyComparisons in each subgroup in the same level is 2\\*2<sup>log<sub>2</sub>n+1-level</sup> -1\\\n",
    "There are 2<sup>level-2</sup> such comparisons of subgroup per level\n",
    "\n",
    "lowest level = log<sub>2</sub>n +1 and highest level = log<sub>2</sub>n+1 - log<sub>2</sub>n +1 = 2"
   ]
  },
  {
   "cell_type": "markdown",
   "id": "eede119b",
   "metadata": {},
   "source": [
    "total keyComparison = 2<sup>log<sub>2</sub>n+1-2</sup>(2\\*2<sup>log<sub>2</sub>n+1-(log<sub>2</sub>n+1)</sup>-1) + 2<sup>(log<sub>2</sub>n+1-1)-2</sup>(2\\*2<sup>log<sub>2</sub>n+1-(log<sub>2</sub>n+1-1)</sup>-1) + ... +2<sup>2-2</sup>(2\\*2<sup>log<sub>2</sub>n+1-2</sup>-1)\\\n",
    "= 2<sup>log<sub>2</sub>n-1</sup>(2\\*2<sup>0</sup>-1) + 2<sup>(log<sub>2</sub>n-1)-1</sup>(2\\*2<sup>1</sup>-1) + ... + 2<sup>0</sup>(2\\*2<sup>log<sub>2</sub>n-1</sup>-1)\\\n",
    "= $\\sum_{i=0}^{log_{2}n-1}$ 2<sup>(log<sub>2</sub>n-1)-i</sup>(2\\*2<sup>i</sup>-1)\\\n",
    "= $\\sum_{i=0}^{log_{2}n-1}$ 2<sup>(log<sub>2</sub>n-1)-i</sup>(2\\*2<sup>i</sup>) - $\\sum_{i=0}^{log_{2}n-1}$ 2<sup>(log<sub>2</sub>n-1)-i\\\n",
    "= $\\sum_{i=0}^{log_{2}n-1}$ $\\frac{n}{2}$ \\* ($\\frac{1}{2}$)<sup>i</sup>(2\\*2<sup>i</sup>) -  $\\sum_{i=0}^{log_{2}n-1}$ $\\frac{n}{2}$ \\* ($\\frac{1}{2}$)<sup>i</sup>\\\n",
    "= (log<sub>2</sub>n-1+1)n - $\\frac{n}{2}$ ($\\frac{1-2^{-(log_{2}n-1+1)}}{2^{-1}}$)\\\n",
    "= nlog<sub>2</sub>n - n(1-$\\frac{1}{n}$)\\\n",
    "= nlog<sub>2</sub>n - n+1\n"
   ]
  },
  {
   "cell_type": "markdown",
   "id": "d45c5d36",
   "metadata": {},
   "source": [
    "Max keyComparisons in InsertionSort\n",
    "\n",
    "key at index 1 undergoes 1 key comparison\\\n",
    "key at index 2 undergoes 2 key comparison\\\n",
    "key at index i undergoes i key comparison\\\n",
    "until key at index n-1\n",
    "\n",
    "Total keyComparisons = 1+2+3+...+n-1 = $\\frac{n-1}{2}$(2\\*1 +(n-1)-1) = n($\\frac{n-1}{2}$)"
   ]
  },
  {
   "cell_type": "markdown",
   "id": "11a767d7",
   "metadata": {},
   "source": [
    "Max keyComparisons in MergeSortH with n=$k^{2}$ and s=8, for $k$ an integer\\\n",
    "s = 2<sup>3</sup>\n",
    "\n",
    "There are log<sup>2</sup>n +1 levels with the last 3 rows using InsertionSort and hence log<sub>2</sub>n-3 level of comparisons for mergeSort\n",
    "\n",
    "The max number of keyComparisons in each subgroup in the same level is 2\\*2<sup>log<sub>2</sub>n+1-level</sup>-1\\\n",
    "There are 2<sup>level-2</sup> such subgroup per level\n",
    "\n",
    "lowest level = log<sub>2</sub>n - 2 and highest level = 2\n",
    "\n",
    "total keyComparison for merge = 2<sup>log<sub>2</sub>n-2-2</sup>(2\\*2<sup>log<sub>2</sub>n+1-(log<sub>2</sub>n-2)</sup>-1) + 2<sup>(log<sub>2</sub>n-2-1)-2</sup>(2\\*2<sup>log<sub>2</sub>n+1-(log<sub>2</sub>n-2-1)</sup>-1) + ... +2<sup>2-2</sup>(2\\*2<sup>log<sub>2</sub>n+1-2</sup>-1)\\\n",
    "= 2<sup>log<sub>2</sub>n-1-3</sup>(2\\*2<sup>3</sup>-1) + 2<sup>(log<sub>2</sub>n-1)-4</sup>(2\\*2<sup>4</sup>-1) + ... + 2<sup>0</sup>(2\\*2<sup>log<sub>2</sub>n-1</sup>-1)\\\n",
    "= $\\sum_{i=3}^{log_{2}n-1}$ 2<sup>(log<sub>2</sub>n-1)-i</sup>(2\\*2<sup>i</sup>-1)\\\n",
    "= $\\sum_{i=3}^{log_{2}n-1}$ 2<sup>(log<sub>2</sub>n-1)-i</sup>(2\\*2<sup>i</sup>) - $\\sum_{i=3}^{log_{2}n-1}$ 2<sup>(log<sub>2</sub>n-1)-i\\\n",
    "= $\\sum_{i=3}^{log_{2}n-1}$ $\\frac{n}{2}$ \\* ($\\frac{1}{2}$)<sup>i</sup>(2\\*2<sup>i</sup>) -  $\\sum_{i=3}^{log_{2}n-1}$ $\\frac{n}{2}$ \\* ($\\frac{1}{2}$)<sup>i</sup>\\\n",
    "= (log<sub>2</sub>n-1+1-3)n - $\\frac{n}{16}$ ($\\frac{1-2^{-(log_{2}n-1+1-3)}}{2^{-1}}$)\\\n",
    "= nlog<sub>2</sub>n - 3n - $\\frac{n}{8}$(1-$\\frac{8}{n}$)\\\n",
    "= nlog<sub>2</sub>n - 3n - $\\frac{n}{8}$ + 1\\\n",
    "= nlog<sub>2</sub>n - $\\frac{25n}{8}$ + 1\n",
    "\n",
    "\n",
    "Each subgroup at the level log<sub>2</sub>n+1-3 = log<sub>2</sub>n-2 undergoes InsertionSort before MergeSort\\\n",
    "Subgroup size is s, which is 8, 8*7/2 = 28 keyComparisons per subgroup\\\n",
    "There are 2<sup>log<sub>2</sub>n-2-2+1</sup> = 2<sup>log<sub>2</sub>n-3</sup> = $\\frac{n}{8}$ such subgroups\\\n",
    "hence there are 28\\*$\\frac{n}{8}$ = $\\frac{7n}{2}$ comparisons for InsertionSort\n",
    "\n",
    "\n",
    "Final total = nlog<sub>2</sub>n - $\\frac{25n}{8}$ + 1 + $\\frac{7n}{2}$ = nlog<sub>2</sub>n - $\\frac{3n}{8}$ + 1 "
   ]
  },
  {
   "cell_type": "code",
   "execution_count": 28,
   "id": "7b4a184c",
   "metadata": {},
   "outputs": [],
   "source": [
    "import math\n",
    "\n",
    "theoreticalData1 = []\n",
    "mini = []\n",
    "for n in arrN:\n",
    "    theoreticalData1.append(n*math.log(n,2) - (3*n/8) +1)\n",
    "    mini.append(n*(math.log(n,2)-3)/2 + n)"
   ]
  },
  {
   "cell_type": "code",
   "execution_count": 29,
   "id": "461acace",
   "metadata": {
    "scrolled": false
   },
   "outputs": [
    {
     "data": {
      "image/png": "[encoded data removed]",
      "text/plain": [
       "<Figure size 640x480 with 1 Axes>"
      ]
     },
     "metadata": {},
     "output_type": "display_data"
    }
   ],
   "source": [
    "#plot the graphs\n",
    "import seaborn as sns\n",
    "import matplotlib.pyplot as plt\n",
    "sns.set(style=\"whitegrid\")\n",
    "sns.lineplot(x=arrN, y=empiricalData1, label='Empirical Data')\n",
    "sns.lineplot(x=arrN, y=theoreticalData1, label='Theoretical max Data')\n",
    "sns.lineplot(x=arrN, y=mini, label='Theoretical min Data')\n",
    "plt.legend(loc=5)\n",
    "plt.show()\n",
    "\n"
   ]
  },
  {
   "cell_type": "markdown",
   "id": "8f116b33",
   "metadata": {},
   "source": [
    "cii"
   ]
  },
  {
   "cell_type": "code",
   "execution_count": 30,
   "id": "cea5e618",
   "metadata": {},
   "outputs": [],
   "source": [
    "allSamples = allSamplesOG.copy()\n",
    "\n",
    "#arr to capture cii results, y axis\n",
    "empiricalData2 = []\n",
    "#arrS to capture value of s, x axis\n",
    "arrS = []\n",
    "\n",
    "#idk what to pur for the limit of s#\n",
    "lim = 64\n",
    "#same for increment#\n",
    "step = 2 \n",
    "\n",
    "#multiplicative step range function\n",
    "def multiplicative_range(start, stop, step):\n",
    "    while start<=stop:\n",
    "        yield start\n",
    "        start *= step\n",
    "\n",
    "theoreticalData2 = []\n",
    "mini = []\n",
    "n = len(allSamples[-1])\n",
    "   \n",
    "\n",
    "for s in multiplicative_range(2,lim,step):\n",
    "    arrS.append(s)\n",
    "    sample = allSamples[-1] #idk which sample size we should take\n",
    "    result, keyComparisons = mergeSortH(sample,0,s)\n",
    "    empiricalData2.append(keyComparisons)\n",
    "\n",
    "\n",
    "    #Theoretical \n",
    "    keyComparisons = n*math.log(n,2) - math.log(s,2)*n - n/s + 1 + (n*(s-1))/2\n",
    "    theoreticalData2.append(keyComparisons)\n",
    "\n",
    "    #min\n",
    "    keyComparisons = (n/2)*(math.log(n/s,2)) + n*(s-1)/s\n",
    "    mini.append(keyComparisons)\n"
   ]
  },
  {
   "cell_type": "markdown",
   "id": "90f5c208",
   "metadata": {},
   "source": [
    "Looking at the partial MergeSort formula from ci, we can see that the keyComparisons is basically just\\\n",
    "nlog<sub>2</sub>n - (log<sub>2</sub>s)*n - $\\frac{n}{s}$ + 1\n",
    "\n",
    "And for the insertion portion, keyComparisons would be\\\n",
    "$\\frac{s(s-1)}{2}$ \\* $\\frac{n}{s}$ = $\\frac{n(s-1)}{2}$\n",
    "\n",
    "total keyComparisons = nlog<sub>2</sub>n - (log<sub>2</sub>s)n - $\\frac{n}{s}$ + 1 + $\\frac{n(s-1)}{2}$"
   ]
  },
  {
   "cell_type": "code",
   "execution_count": null,
   "id": "ce171099",
   "metadata": {},
   "outputs": [],
   "source": []
  },
  {
   "cell_type": "code",
   "execution_count": 31,
   "id": "031174c2",
   "metadata": {},
   "outputs": [
    {
     "data": {
      "image/png": "[encoded data removed]",
      "text/plain": [
       "<Figure size 640x480 with 1 Axes>"
      ]
     },
     "metadata": {},
     "output_type": "display_data"
    }
   ],
   "source": [
    "\n",
    "plt.clf # clear input of seaborn\n",
    "sns.lineplot(x=arrS, y=empiricalData2, label='Empirical Data')\n",
    "sns.lineplot(x=arrS, y=theoreticalData2, label='Theoretical max Data') \n",
    "sns.lineplot(x=arrS, y=mini, label='Theoretical min Data') \n",
    "plt.legend(loc=5)\n",
    "plt.show()\n"
   ]
  },
  {
   "cell_type": "markdown",
   "id": "384b6bc1",
   "metadata": {},
   "source": [
    "cii\\\n",
    "Using different sizes of input datasets, study how to determine an optimal value of S for the best performance of this hybrid algorithm"
   ]
  },
  {
   "cell_type": "markdown",
   "id": "0ae852bd",
   "metadata": {},
   "source": [
    "From the graph above, we can see that for the same N, as s increases, the gradient also increases. This tells us that, generally, as s increases, number of keyComparisons increases and hence an optimal value of s is very low.\n",
    "\n",
    "Lets zoom in on small values of s for all ranges of N:"
   ]
  },
  {
   "cell_type": "code",
   "execution_count": 32,
   "id": "1fba8135",
   "metadata": {},
   "outputs": [],
   "source": [
    "import time\n",
    "\n",
    "allSamples = allSamplesOG.copy()\n",
    "arrH = []\n",
    "arrD = []\n",
    "for sample in allSamples:\n",
    "    for s in multiplicative_range(2,lim,step):\n",
    "        #hybrid\n",
    "        startH = time.time()\n",
    "        result, keyComparisonsH = mergeSortH(sample,0,s)\n",
    "        endH = time.time()\n",
    "        timeTakenH = endH - startH\n",
    "        arrH.append((len(sample),s,keyComparisonsH,timeTakenH))\n",
    "\n",
    "    #default\n",
    "    start = time.time()\n",
    "    result, keyComparisonsD = mergeSort(sample,0)\n",
    "    end = time.time()\n",
    "    timeTakenD = end - start\n",
    "    arrD.append((len(sample),keyComparisonsD,timeTakenD))\n",
    "\n"
   ]
  },
  {
   "cell_type": "code",
   "execution_count": 33,
   "id": "deee061d",
   "metadata": {},
   "outputs": [
    {
     "name": "stdout",
     "output_type": "stream",
     "text": [
      "HYBRID\n",
      "(1024, 2, 8952, 0.0066683292388916016)\n",
      "(1024, 4, 9034, 0.0033028125762939453)\n",
      "(1024, 8, 9439, 0.005019664764404297)\n",
      "(1024, 16, 10653, 0.004284858703613281)\n",
      "(1024, 32, 13901, 0.0046579837799072266)\n",
      "(1024, 64, 20963, 0.005984783172607422)\n",
      "DEFAULT\n",
      "(1024, 8952, 0.004370927810668945)\n",
      "HYBRID\n",
      "(2048, 2, 19903, 0.012687444686889648)\n",
      "(2048, 4, 20056, 0.007964134216308594)\n",
      "(2048, 8, 20826, 0.009290933609008789)\n",
      "(2048, 16, 23308, 0.006981611251831055)\n",
      "(2048, 32, 29602, 0.01194453239440918)\n",
      "(2048, 64, 43825, 0.02127385139465332)\n",
      "DEFAULT\n",
      "(2048, 19903, 0.011993646621704102)\n",
      "HYBRID\n",
      "(4096, 2, 43932, 0.02191615104675293)\n",
      "(4096, 4, 44157, 0.020943641662597656)\n",
      "(4096, 8, 45703, 0.022988319396972656)\n",
      "(4096, 16, 50750, 0.026894569396972656)\n",
      "(4096, 32, 63055, 0.024233102798461914)\n",
      "(4096, 64, 91436, 0.028918027877807617)\n",
      "DEFAULT\n",
      "(4096, 43932, 0.025897979736328125)\n",
      "HYBRID\n",
      "(8192, 2, 95962, 0.046891212463378906)\n",
      "(8192, 4, 96451, 0.05485367774963379)\n",
      "(8192, 8, 99460, 0.04790091514587402)\n",
      "(8192, 16, 109427, 0.04487776756286621)\n",
      "(8192, 32, 135060, 0.04241061210632324)\n",
      "(8192, 64, 192253, 0.08879494667053223)\n",
      "DEFAULT\n",
      "(8192, 95962, 0.057813167572021484)\n",
      "HYBRID\n",
      "(16384, 2, 208341, 0.08653903007507324)\n",
      "(16384, 4, 209208, 0.08435201644897461)\n",
      "(16384, 8, 215349, 0.07661676406860352)\n",
      "(16384, 16, 235172, 0.07589602470397949)\n",
      "(16384, 32, 286444, 0.09900856018066406)\n",
      "(16384, 64, 401610, 0.15984845161437988)\n",
      "DEFAULT\n",
      "(16384, 208341, 0.10301065444946289)\n",
      "HYBRID\n",
      "(32768, 2, 449177, 0.23285770416259766)\n",
      "(32768, 4, 451037, 0.20638799667358398)\n",
      "(32768, 8, 462798, 0.2014603614807129)\n",
      "(32768, 16, 502812, 0.19353532791137695)\n",
      "(32768, 32, 604723, 0.25216054916381836)\n",
      "(32768, 64, 835985, 0.32190847396850586)\n",
      "DEFAULT\n",
      "(32768, 449177, 0.23886346817016602)\n",
      "HYBRID\n",
      "(65536, 2, 963410, 0.44185686111450195)\n",
      "(65536, 4, 967180, 0.3897230625152588)\n",
      "(65536, 8, 991539, 0.3731379508972168)\n",
      "(65536, 16, 1072374, 0.4960298538208008)\n",
      "(65536, 32, 1276642, 0.49546241760253906)\n",
      "(65536, 64, 1738177, 0.6597068309783936)\n",
      "DEFAULT\n",
      "(65536, 963410, 0.5087969303131104)\n"
     ]
    }
   ],
   "source": [
    "for i in range(len(arrD)):\n",
    "    print(\"HYBRID\")\n",
    "    for j in range(6):\n",
    "        print(arrH[i*6+j])\n",
    "    print(\"DEFAULT\")    \n",
    "    print(arrD[i])"
   ]
  },
  {
   "cell_type": "code",
   "execution_count": 34,
   "id": "a89e45c8",
   "metadata": {},
   "outputs": [],
   "source": [
    "#finding mean runtime using 10 runs of random 65536 datasets\n",
    "import random\n",
    "\n",
    "dataset = []\n",
    "meanarray = []\n",
    "\n",
    "#create 10 different datasets, called with dataset[0-9]\n",
    "for i in range(1,11):\n",
    "    temp = [random.randint(1, 100) for _ in range(65536)]\n",
    "    dataset.append(temp)\n",
    "\n",
    "#calculate mean time for s 1-100\n",
    "for s in range(1,101):\n",
    "    totaltimetaken = 0\n",
    "    totalkeycomparisons = 0\n",
    "    for i in range(0,10):\n",
    "        start = time.time()\n",
    "        temp, keycomparisons = mergeSortH(dataset[i], 0, s)\n",
    "        end = time.time()\n",
    "        timetaken = end - start\n",
    "        totaltimetaken += timetaken\n",
    "        totalkeycomparisons += keycomparisons\n",
    "    \n",
    "    timetaken = totaltimetaken / 10\n",
    "    keycomparisons = totalkeycomparisons / 10\n",
    "    meanarray.append((s,keycomparisons,timetaken))"
   ]
  },
  {
   "cell_type": "code",
   "execution_count": 35,
   "id": "13f1370a",
   "metadata": {},
   "outputs": [
    {
     "data": {
      "text/plain": [
       "[(1, 963412.9, 0.5593577861785889),\n",
       " (2, 963412.9, 0.4762239694595337),\n",
       " (3, 963412.9, 0.47358055114746095),\n",
       " (4, 967251.6, 0.47808802127838135),\n",
       " (5, 967251.6, 0.45803992748260497),\n",
       " (6, 967251.6, 0.4859764575958252),\n",
       " (7, 967251.6, 0.4547943115234375),\n",
       " (8, 991737.9, 0.43931992053985597),\n",
       " (9, 991737.9, 0.4431826829910278),\n",
       " (10, 991737.9, 0.4520746946334839),\n",
       " (11, 991737.9, 0.4367704153060913),\n",
       " (12, 991737.9, 0.40523386001586914),\n",
       " (13, 991737.9, 0.41163883209228513),\n",
       " (14, 991737.9, 0.41656203269958497),\n",
       " (15, 991737.9, 0.42156252861022947),\n",
       " (16, 1071580.8, 0.41347155570983884),\n",
       " (17, 1071580.8, 0.4272636413574219),\n",
       " (18, 1071580.8, 0.45841097831726074),\n",
       " (19, 1071580.8, 0.47507784366607664),\n",
       " (20, 1071580.8, 0.42798092365264895),\n",
       " (21, 1071580.8, 0.42967953681945803),\n",
       " (22, 1071580.8, 0.40952200889587403),\n",
       " (23, 1071580.8, 0.3868129253387451),\n",
       " (24, 1071580.8, 0.35726873874664306),\n",
       " (25, 1071580.8, 0.3627799987792969),\n",
       " (26, 1071580.8, 0.3682494401931763),\n",
       " (27, 1071580.8, 0.3830657243728638),\n",
       " (28, 1071580.8, 0.36635470390319824),\n",
       " (29, 1071580.8, 0.3678958177566528),\n",
       " (30, 1071580.8, 0.361998987197876),\n",
       " (31, 1071580.8, 0.399226450920105),\n",
       " (32, 1274835.5, 0.42566988468170164),\n",
       " (33, 1274835.5, 0.4128348112106323),\n",
       " (34, 1274835.5, 0.42271335124969484),\n",
       " (35, 1274835.5, 0.41551711559295657),\n",
       " (36, 1274835.5, 0.41510307788848877),\n",
       " (37, 1274835.5, 0.43638100624084475),\n",
       " (38, 1274835.5, 0.44595577716827395),\n",
       " (39, 1274835.5, 0.40637640953063964),\n",
       " (40, 1274835.5, 0.40588157176971434),\n",
       " (41, 1274835.5, 0.40639591217041016),\n",
       " (42, 1274835.5, 0.41349382400512696),\n",
       " (43, 1274835.5, 0.4155019998550415),\n",
       " (44, 1274835.5, 0.4888221025466919),\n",
       " (45, 1274835.5, 0.45821151733398435),\n",
       " (46, 1274835.5, 0.398992133140564),\n",
       " (47, 1274835.5, 0.403375506401062),\n",
       " (48, 1274835.5, 0.434497594833374),\n",
       " (49, 1274835.5, 0.43081910610198976),\n",
       " (50, 1274835.5, 0.45350184440612795),\n",
       " (51, 1274835.5, 0.42998740673065183),\n",
       " (52, 1274835.5, 0.40367023944854735),\n",
       " (53, 1274835.5, 0.41501808166503906),\n",
       " (54, 1274835.5, 0.4048197269439697),\n",
       " (55, 1274835.5, 0.4025628328323364),\n",
       " (56, 1274835.5, 0.4198188304901123),\n",
       " (57, 1274835.5, 0.4277106046676636),\n",
       " (58, 1274835.5, 0.4364818572998047),\n",
       " (59, 1274835.5, 0.4166318416595459),\n",
       " (60, 1274835.5, 0.45638370513916016),\n",
       " (61, 1274835.5, 0.4615744113922119),\n",
       " (62, 1274835.5, 0.4799704074859619),\n",
       " (63, 1274835.5, 0.48242411613464353),\n",
       " (64, 1732925.4, 0.5859090328216553),\n",
       " (65, 1732925.4, 0.5620393037796021),\n",
       " (66, 1732925.4, 0.5794227600097657),\n",
       " (67, 1732925.4, 0.5681440830230713),\n",
       " (68, 1732925.4, 0.5587778091430664),\n",
       " (69, 1732925.4, 0.5772744655609131),\n",
       " (70, 1732925.4, 0.5338819265365601),\n",
       " (71, 1732925.4, 0.5559974908828735),\n",
       " (72, 1732925.4, 0.6034017324447631),\n",
       " (73, 1732925.4, 0.5615771293640137),\n",
       " (74, 1732925.4, 0.5696921586990357),\n",
       " (75, 1732925.4, 0.5458330631256103),\n",
       " (76, 1732925.4, 0.5557798147201538),\n",
       " (77, 1732925.4, 0.5833530426025391),\n",
       " (78, 1732925.4, 0.5456830263137817),\n",
       " (79, 1732925.4, 0.5679638385772705),\n",
       " (80, 1732925.4, 0.6573375463485718),\n",
       " (81, 1732925.4, 0.697569727897644),\n",
       " (82, 1732925.4, 0.6612739801406861),\n",
       " (83, 1732925.4, 0.6609686136245727),\n",
       " (84, 1732925.4, 0.7479012966156006),\n",
       " (85, 1732925.4, 0.5461931467056275),\n",
       " (86, 1732925.4, 0.5614335298538208),\n",
       " (87, 1732925.4, 0.5627722263336181),\n",
       " (88, 1732925.4, 0.5648210287094116),\n",
       " (89, 1732925.4, 0.5703689336776734),\n",
       " (90, 1732925.4, 0.6084875106811524),\n",
       " (91, 1732925.4, 0.5673044681549072),\n",
       " (92, 1732925.4, 0.5810035943984986),\n",
       " (93, 1732925.4, 0.6635733366012573),\n",
       " (94, 1732925.4, 0.5526325702667236),\n",
       " (95, 1732925.4, 0.6195132255554199),\n",
       " (96, 1732925.4, 0.5754662036895752),\n",
       " (97, 1732925.4, 0.5814070701599121),\n",
       " (98, 1732925.4, 0.5567882537841797),\n",
       " (99, 1732925.4, 0.575184965133667),\n",
       " (100, 1732925.4, 0.6096176624298095)]"
      ]
     },
     "execution_count": 35,
     "metadata": {},
     "output_type": "execute_result"
    }
   ],
   "source": [
    "meanarray"
   ]
  },
  {
   "cell_type": "code",
   "execution_count": 36,
   "id": "502cdbcc",
   "metadata": {},
   "outputs": [],
   "source": [
    "#finding mean runtime using 10 runs of odd number random 65537 dataset\n",
    "\n",
    "dataset = []\n",
    "oddmeanarray = []\n",
    "\n",
    "#create 10 different datasets, called with dataset[0-9]\n",
    "for i in range(1,11):\n",
    "    temp = [random.randint(1, 100) for _ in range(65537)]\n",
    "    dataset.append(temp)\n",
    "\n",
    "#calculate mean time for s 1-100\n",
    "for s in range(1,101):\n",
    "    totaltimetaken = 0\n",
    "    totalkeycomparisons = 0\n",
    "    for i in range(0,10):\n",
    "        start = time.time()\n",
    "        temp, keycomparisons = mergeSortH(dataset[i], 0, s)\n",
    "        end = time.time()\n",
    "        timetaken = end - start\n",
    "        totaltimetaken += timetaken\n",
    "        totalkeycomparisons += keycomparisons\n",
    "    \n",
    "    timetaken = totaltimetaken / 10\n",
    "    keycomparisons = totalkeycomparisons / 10\n",
    "    oddmeanarray.append((s,keycomparisons,timetaken))"
   ]
  },
  {
   "cell_type": "code",
   "execution_count": 37,
   "id": "2978c267",
   "metadata": {},
   "outputs": [
    {
     "data": {
      "text/plain": [
       "[(1, 963293.6, 0.45716080665588377),\n",
       " (2, 963293.6, 0.3828540802001953),\n",
       " (3, 963293.9, 0.3928059577941895),\n",
       " (4, 967136.5, 0.34633750915527345),\n",
       " (5, 967136.5, 0.3544447660446167),\n",
       " (6, 967136.5, 0.35105504989624026),\n",
       " (7, 967136.5, 0.37039225101470946),\n",
       " (8, 991523.1, 0.3813269376754761),\n",
       " (9, 991526.1, 0.36699609756469725),\n",
       " (10, 991526.1, 0.34812092781066895),\n",
       " (11, 991526.1, 0.3472959756851196),\n",
       " (12, 991526.1, 0.3776888370513916),\n",
       " (13, 991526.1, 0.36601431369781495),\n",
       " (14, 991526.1, 0.35107989311218263),\n",
       " (15, 991526.1, 0.3621715784072876),\n",
       " (16, 1071459.2, 0.38200385570526124),\n",
       " (17, 1071479.3, 0.4268588304519653),\n",
       " (18, 1071479.3, 0.36575989723205565),\n",
       " (19, 1071479.3, 0.36301939487457274),\n",
       " (20, 1071479.3, 0.3621379852294922),\n",
       " (21, 1071479.3, 0.3722054481506348),\n",
       " (22, 1071479.3, 0.3588337659835815),\n",
       " (23, 1071479.3, 0.36752471923828123),\n",
       " (24, 1071479.3, 0.3818222522735596),\n",
       " (25, 1071479.3, 0.372621488571167),\n",
       " (26, 1071479.3, 0.3684014081954956),\n",
       " (27, 1071479.3, 0.35002856254577636),\n",
       " (28, 1071479.3, 0.37142171859741213),\n",
       " (29, 1071479.3, 0.34928345680236816),\n",
       " (30, 1071479.3, 0.4311076164245605),\n",
       " (31, 1071479.3, 0.42833905220031737),\n",
       " (32, 1274839.2, 0.5143457174301147),\n",
       " (33, 1274933.7, 0.5371501445770264),\n",
       " (34, 1274933.7, 0.4917086362838745),\n",
       " (35, 1274933.7, 0.5480089902877807),\n",
       " (36, 1274933.7, 0.5074613094329834),\n",
       " (37, 1274933.7, 0.4226170778274536),\n",
       " (38, 1274933.7, 0.4033288717269897),\n",
       " (39, 1274933.7, 0.3980343580245972),\n",
       " (40, 1274933.7, 0.4103637456893921),\n",
       " (41, 1274933.7, 0.4349268913269043),\n",
       " (42, 1274933.7, 0.4144431114196777),\n",
       " (43, 1274933.7, 0.4298048257827759),\n",
       " (44, 1274933.7, 0.4020895481109619),\n",
       " (45, 1274933.7, 0.4170008897781372),\n",
       " (46, 1274933.7, 0.4126713275909424),\n",
       " (47, 1274933.7, 0.4354999303817749),\n",
       " (48, 1274933.7, 0.4449901819229126),\n",
       " (49, 1274933.7, 0.43463659286499023),\n",
       " (50, 1274933.7, 0.4218884468078613),\n",
       " (51, 1274933.7, 0.4072697639465332),\n",
       " (52, 1274933.7, 0.4427917003631592),\n",
       " (53, 1274933.7, 0.41153528690338137),\n",
       " (54, 1274933.7, 0.42253804206848145),\n",
       " (55, 1274933.7, 0.4130746603012085),\n",
       " (56, 1274933.7, 0.4340327739715576),\n",
       " (57, 1274933.7, 0.43175806999206545),\n",
       " (58, 1274933.7, 0.42463698387146),\n",
       " (59, 1274933.7, 0.4062373638153076),\n",
       " (60, 1274933.7, 0.41161694526672366),\n",
       " (61, 1274933.7, 0.4171543836593628),\n",
       " (62, 1274933.7, 0.42343003749847413),\n",
       " (63, 1274933.7, 0.41306476593017577),\n",
       " (64, 1733984.9, 0.5746348381042481),\n",
       " (65, 1734433.7, 0.572372317314148),\n",
       " (66, 1734433.7, 0.5528294801712036),\n",
       " (67, 1734433.7, 0.5664769172668457),\n",
       " (68, 1734433.7, 0.5500879526138306),\n",
       " (69, 1734433.7, 0.5624560594558716),\n",
       " (70, 1734433.7, 0.5800492525100708),\n",
       " (71, 1734433.7, 0.635376763343811),\n",
       " (72, 1734433.7, 0.713519024848938),\n",
       " (73, 1734433.7, 0.6856351375579834),\n",
       " (74, 1734433.7, 0.6955640316009521),\n",
       " (75, 1734433.7, 0.6520247459411621),\n",
       " (76, 1734433.7, 0.7389400005340576),\n",
       " (77, 1734433.7, 0.7373172044754028),\n",
       " (78, 1734433.7, 0.703265118598938),\n",
       " (79, 1734433.7, 0.6665019989013672),\n",
       " (80, 1734433.7, 0.5304358005523682),\n",
       " (81, 1734433.7, 0.544921612739563),\n",
       " (82, 1734433.7, 0.5572169542312622),\n",
       " (83, 1734433.7, 0.5564213514328002),\n",
       " (84, 1734433.7, 0.5688591718673706),\n",
       " (85, 1734433.7, 0.5735848665237426),\n",
       " (86, 1734433.7, 0.5579535007476807),\n",
       " (87, 1734433.7, 0.5402448415756226),\n",
       " (88, 1734433.7, 0.5702113389968873),\n",
       " (89, 1734433.7, 0.5685107231140136),\n",
       " (90, 1734433.7, 0.5577165603637695),\n",
       " (91, 1734433.7, 0.5620283126831055),\n",
       " (92, 1734433.7, 0.5614365339279175),\n",
       " (93, 1734433.7, 0.5387130498886108),\n",
       " (94, 1734433.7, 0.5768582344055175),\n",
       " (95, 1734433.7, 0.5429184198379516),\n",
       " (96, 1734433.7, 0.5468366622924805),\n",
       " (97, 1734433.7, 0.5311909675598144),\n",
       " (98, 1734433.7, 0.5581855535507202),\n",
       " (99, 1734433.7, 0.5611491918563842),\n",
       " (100, 1734433.7, 0.5491701602935791)]"
      ]
     },
     "execution_count": 37,
     "metadata": {},
     "output_type": "execute_result"
    }
   ],
   "source": [
    "oddmeanarray"
   ]
  },
  {
   "cell_type": "markdown",
   "id": "d0ae1b58",
   "metadata": {},
   "source": [
    "d) Implement the original version of\n",
    "Mergesort (as learnt in lecture). Compare its performance against the above\n",
    "hybrid algorithm in terms of the number of key comparisons and CPU times on\n",
    "the dataset with 10 million integers. You can use the optimal value of S obtained\n",
    "in (c) for this task."
   ]
  },
  {
   "cell_type": "code",
   "execution_count": 38,
   "id": "8f57e3da",
   "metadata": {},
   "outputs": [],
   "source": [
    "tenmillion_array = []\n",
    "with open('10million.csv', 'r') as csvfile:\n",
    "    csv_reader = csv.reader(csvfile)\n",
    "    for csv_row in csv_reader:\n",
    "        temp_array = [int(item) for item in csv_row if item]  # Skip empty strings\n",
    "        tenmillion_array.append(temp_array)"
   ]
  },
  {
   "cell_type": "code",
   "execution_count": 39,
   "id": "6bfa65d9",
   "metadata": {},
   "outputs": [
    {
     "data": {
      "text/plain": [
       "10000000"
      ]
     },
     "execution_count": 39,
     "metadata": {},
     "output_type": "execute_result"
    }
   ],
   "source": [
    "#do not run the parts below this cell, it will take VERY long\n",
    "import time\n",
    "len(tenmillion_array[0])"
   ]
  },
  {
   "cell_type": "code",
   "execution_count": 40,
   "id": "59482beb",
   "metadata": {},
   "outputs": [],
   "source": [
    "hmsstart = time.time()\n",
    "hms_results, hms_comparisons = mergeSortH(tenmillion_array[0], 0, 8)\n",
    "hmsend = time.time()\n",
    "hmstimetaken = hmsend - hmsstart"
   ]
  },
  {
   "cell_type": "code",
   "execution_count": 41,
   "id": "fe710b8c",
   "metadata": {},
   "outputs": [
    {
     "name": "stdout",
     "output_type": "stream",
     "text": [
      "Key comparisons for Hybrid Algorithm: 221104647\n",
      "Time taken for Hybrid Algorithm: 81.62218761444092\n"
     ]
    }
   ],
   "source": [
    "print(\"Key comparisons for Hybrid Algorithm:\", hms_comparisons)\n",
    "print(\"Time taken for Hybrid Algorithm:\", hmstimetaken)"
   ]
  },
  {
   "cell_type": "code",
   "execution_count": 42,
   "id": "15578f0f",
   "metadata": {},
   "outputs": [],
   "source": [
    "msstart = time.time()\n",
    "ms_results, ms_comparisons = mergeSort(tenmillion_array[0], 0)\n",
    "msend = time.time()\n",
    "mstimetaken = msend - msstart"
   ]
  },
  {
   "cell_type": "code",
   "execution_count": 43,
   "id": "7a47db3b",
   "metadata": {},
   "outputs": [
    {
     "name": "stdout",
     "output_type": "stream",
     "text": [
      "Key comparisons for Mergesort: 220097145\n",
      "Time taken for Mergesort: 93.22199440002441\n"
     ]
    }
   ],
   "source": [
    "print(\"Key comparisons for Mergesort:\", ms_comparisons)\n",
    "print(\"Time taken for Mergesort:\", mstimetaken)"
   ]
  },
  {
   "cell_type": "code",
   "execution_count": 44,
   "id": "ceca6e66",
   "metadata": {},
   "outputs": [
    {
     "data": {
      "text/plain": [
       "True"
      ]
     },
     "execution_count": 44,
     "metadata": {},
     "output_type": "execute_result"
    }
   ],
   "source": [
    "#double check if algorithm worked correctlys\n",
    "hms_results == ms_results"
   ]
  },
  {
   "cell_type": "code",
   "execution_count": 45,
   "id": "200f65e7",
   "metadata": {},
   "outputs": [],
   "source": [
    "tenmillion_array[0].sort()"
   ]
  },
  {
   "cell_type": "code",
   "execution_count": 46,
   "id": "6be40ff5",
   "metadata": {},
   "outputs": [
    {
     "data": {
      "text/plain": [
       "True"
      ]
     },
     "execution_count": 46,
     "metadata": {},
     "output_type": "execute_result"
    }
   ],
   "source": [
    "tenmillion_array[0] == hms_results"
   ]
  },
  {
   "cell_type": "code",
   "execution_count": 47,
   "id": "aa8dd93d",
   "metadata": {},
   "outputs": [
    {
     "data": {
      "text/plain": [
       "10000000"
      ]
     },
     "execution_count": 47,
     "metadata": {},
     "output_type": "execute_result"
    }
   ],
   "source": [
    "len(ms_results)"
   ]
  },
  {
   "cell_type": "code",
   "execution_count": null,
   "id": "9404e9f3",
   "metadata": {},
   "outputs": [],
   "source": []
  }
 ],
 "metadata": {
  "kernelspec": {
   "display_name": "Python 3 (ipykernel)",
   "language": "python",
   "name": "python3"
  },
  "language_info": {
   "codemirror_mode": {
    "name": "ipython",
    "version": 3
   },
   "file_extension": ".py",
   "mimetype": "text/x-python",
   "name": "python",
   "nbconvert_exporter": "python",
   "pygments_lexer": "ipython3",
   "version": "3.9.13"
  }
 },
 "nbformat": 4,
 "nbformat_minor": 5
}
